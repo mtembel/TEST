{
 "cells": [
  {
   "cell_type": "markdown",
   "metadata": {},
   "source": [
    "# Testing Porespy with 3D image 288x288x300"
   ]
  },
  {
   "cell_type": "code",
   "execution_count": 30,
   "metadata": {},
   "outputs": [],
   "source": [
    "import porespy as ps\n",
    "import matplotlib.pyplot as plt\n",
    "import matplotlib.image as imgag\n",
    "import imageio\n",
    "import numpy as np\n",
    "import scipy as sp\n",
    "import scipy.ndimage as spim\n",
    "import openpnm as op\n",
    "from porespy.filters import find_peaks, trim_saddle_points, trim_nearby_peaks\n",
    "from skimage.morphology import watershed\n",
    "from porespy.tools import randomize_colors"
   ]
  },
  {
   "cell_type": "code",
   "execution_count": 31,
   "metadata": {},
   "outputs": [
    {
     "data": {
      "text/plain": [
       "(288, 288, 300)"
      ]
     },
     "execution_count": 31,
     "metadata": {},
     "output_type": "execute_result"
    }
   ],
   "source": [
    "#%ls\n",
    "im=np.load('mtest3Dimage.npy')\n",
    "im.shape"
   ]
  },
  {
   "cell_type": "code",
   "execution_count": 32,
   "metadata": {},
   "outputs": [
    {
     "data": {
      "image/png": "[encoded data removed]",
      "text/plain": [
       "<Figure size 432x288 with 1 Axes>"
      ]
     },
     "metadata": {
      "needs_background": "light"
     },
     "output_type": "display_data"
    }
   ],
   "source": [
    "plt.imshow(im[:,:,299])\n",
    "plt.axis('off')\n",
    "plt.show()"
   ]
  },
  {
   "cell_type": "code",
   "execution_count": 33,
   "metadata": {},
   "outputs": [
    {
     "data": {
      "text/plain": [
       "(-0.5, 299.5, 287.5, -0.5)"
      ]
     },
     "execution_count": 33,
     "metadata": {},
     "output_type": "execute_result"
    },
    {
     "data": {
      "image/png": "[encoded data removed]",
      "text/plain": [
       "<Figure size 432x288 with 1 Axes>"
      ]
     },
     "metadata": {
      "needs_background": "light"
     },
     "output_type": "display_data"
    }
   ],
   "source": [
    "plt.imshow(ps.visualization.sem(im), cmap=plt.cm.bone)\n",
    "plt.axis('off')"
   ]
  },
  {
   "cell_type": "code",
   "execution_count": 34,
   "metadata": {},
   "outputs": [],
   "source": [
    "im = np.array(im, dtype=bool)"
   ]
  },
  {
   "cell_type": "code",
   "execution_count": 35,
   "metadata": {},
   "outputs": [
    {
     "name": "stdout",
     "output_type": "stream",
     "text": [
      "____________________________________________________________\n",
      "Beginning SNOW Algorithm\n",
      "Peforming Distance Transform\n",
      "Applying Gaussian blur with sigma = 0.4\n",
      "Initial number of peaks:  1970\n",
      "Peaks after trimming saddle points:  1482\n",
      "Peaks after trimming nearby peaks:  1425\n"
     ]
    },
    {
     "name": "stderr",
     "output_type": "stream",
     "text": [
      "c:\\users\\mt\\anaconda3\\lib\\site-packages\\skimage\\util\\arraycrop.py:175: FutureWarning: Using a non-tuple sequence for multidimensional indexing is deprecated; use `arr[tuple(seq)]` instead of `arr[seq]`. In the future this will be interpreted as an array index, `arr[np.array(seq)]`, which will result either in an error or a different result.\n",
      "  cropped = np.array(ar[slices], order=order, copy=True)\n"
     ]
    },
    {
     "name": "stdout",
     "output_type": "stream",
     "text": [
      "____________________________________________________________\n",
      "Extracting pore and throat information from image\n"
     ]
    },
    {
     "name": "stderr",
     "output_type": "stream",
     "text": [
      "100%|██████████████████████████████████████████████████████████████████████████████| 2199/2199 [00:43<00:00, 50.36it/s]\n"
     ]
    }
   ],
   "source": [
    "\n",
    "snow_output = ps.network_extraction.snow(im,\n",
    "                                        voxel_size=7.5e-6,\n",
    "                                        boundary_faces=['left','right','front','back','top','bottom'],\n",
    "                                        marching_cubes_area=False)"
   ]
  },
  {
   "cell_type": "code",
   "execution_count": 36,
   "metadata": {},
   "outputs": [],
   "source": [
    "pn = op.network.GenericNetwork()\n",
    "pn.update(snow_output)\n",
    "prj = pn.project"
   ]
  },
  {
   "cell_type": "code",
   "execution_count": 42,
   "metadata": {},
   "outputs": [
    {
     "data": {
      "text/plain": [
       "Text(0,0.5,'PDF')"
      ]
     },
     "execution_count": 42,
     "metadata": {},
     "output_type": "execute_result"
    },
    {
     "data": {
      "image/png": "[encoded data removed]",
      "text/plain": [
       "<Figure size 432x288 with 1 Axes>"
      ]
     },
     "metadata": {
      "needs_background": "light"
     },
     "output_type": "display_data"
    }
   ],
   "source": [
    "plt.hist(1e6*pn['throat.length'],25,color='b',density='true',label='font') # \n",
    "plt.legend(loc='upper right')\n",
    "plt.xlabel('Throat Length (um)',fontsize=14)\n",
    "plt.ylabel('PDF',fontsize=14)"
   ]
  },
  {
   "cell_type": "markdown",
   "metadata": {},
   "source": [
    "# !!!! Issue with the extracted network ??"
   ]
  },
  {
   "cell_type": "code",
   "execution_count": 45,
   "metadata": {},
   "outputs": [
    {
     "data": {
      "text/plain": [
       "-3.510435161948927e-05"
      ]
     },
     "execution_count": 45,
     "metadata": {},
     "output_type": "execute_result"
    }
   ],
   "source": [
    "\n",
    "min(pn['throat.length']) # <0 !!!!"
   ]
  },
  {
   "cell_type": "code",
   "execution_count": 38,
   "metadata": {},
   "outputs": [],
   "source": [
    "prj.export_data(filename='v4FONTextraction', filetype='vtk')"
   ]
  },
  {
   "cell_type": "code",
   "execution_count": 39,
   "metadata": {},
   "outputs": [],
   "source": [
    "im = ps.tools.align_image_with_openpnm(im)\n",
    "ps.io.to_vtk(sp.array(im, dtype=int), 'v4Fontim.tif')\n",
    "#ps.io.to_vtk(np.array(im, dtype=np.uint8),'v3Font.tif')\n",
    "#ps.io.to_vtk(np.array(im, dtype=np.uint8),'v3Font.tif')"
   ]
  },
  {
   "cell_type": "code",
   "execution_count": 12,
   "metadata": {},
   "outputs": [
    {
     "data": {
      "text/plain": [
       "['pore.all', 'pore.back', 'pore.bottom', 'pore.boundary', 'pore.front', 'pore.internal', 'pore.left', 'pore.right', 'pore.top', 'throat.all', 'throat.boundary', 'throat.internal']"
      ]
     },
     "execution_count": 12,
     "metadata": {},
     "output_type": "execute_result"
    }
   ],
   "source": [
    "pn.labels()"
   ]
  },
  {
   "cell_type": "code",
   "execution_count": 23,
   "metadata": {},
   "outputs": [],
   "source": [
    "water = op.phases.Water(network=pn)\n",
    "#pn['pore.diameter'] = 2*pn['pore.radius']\n",
    "#pn['throat.diameter'] = 2*pn['throat.radius']\n",
    "pn.add_model(propname='pore.area',\n",
    "             model=op.models.geometry.pore_area.sphere)\n",
    "pn.add_model(propname='throat.area',\n",
    "             model=op.models.geometry.throat_area.cylinder)\n",
    "pn.add_model(propname='throat.endpoints',\n",
    "             model=op.models.geometry.throat_endpoints.spherical_pores)\n",
    "pn.add_model(propname='throat.conduit_lengths',\n",
    "             model=op.models.geometry.throat_length.conduit_lengths)"
   ]
  },
  {
   "cell_type": "code",
   "execution_count": 24,
   "metadata": {},
   "outputs": [],
   "source": [
    "water.add_model(propname='throat.hydraulic_conductance',\n",
    "                model=op.models.physics.hydraulic_conductance.hagen_poiseuille)"
   ]
  },
  {
   "cell_type": "code",
   "execution_count": 25,
   "metadata": {},
   "outputs": [],
   "source": [
    "flow = op.algorithms.StokesFlow(network=pn, phase=water)\n",
    "flow.set_value_BC(pores=pn.pores('front'), values=200000)\n",
    "flow.set_value_BC(pores=pn.pores('back'), values=100000)\n",
    "flow.run()"
   ]
  },
  {
   "cell_type": "markdown",
   "metadata": {},
   "source": [
    "# !!!! permeability is off compared to other methods "
   ]
  },
  {
   "cell_type": "code",
   "execution_count": 26,
   "metadata": {},
   "outputs": [
    {
     "name": "stdout",
     "output_type": "stream",
     "text": [
      "0.0022724999999999998\n",
      "[2.79592187e-11]\n",
      "K(mD)= [28329.67738199]\n"
     ]
    }
   ],
   "source": [
    "mu = sp.mean(water['pore.viscosity'])\n",
    "# Specify a pressure difference (in Pa)\n",
    "delta_P = 100000\n",
    "# Using the rate method of the StokesFlow algorithm\n",
    "Q = sp.absolute(flow.rate(pores=pn.pores('front')))\n",
    "# Because we know the inlets and outlets are at x=0 and x=X\n",
    "Lx = sp.amax(pn['pore.coords'][:, 2]) - sp.amin(pn['pore.coords'][:, 2])\n",
    "print(Lx)\n",
    "A = Lx*Lx  # Since the network is cubic Lx = Ly = Lz\n",
    "K = Q*mu*Lx/(delta_P*A)\n",
    "print(K)\n",
    "\n",
    "print('K(mD)=',K/9.869233e-16)"
   ]
  },
  {
   "cell_type": "code",
   "execution_count": null,
   "metadata": {},
   "outputs": [],
   "source": []
  }
 ],
 "metadata": {
  "kernelspec": {
   "display_name": "Python 3",
   "language": "python",
   "name": "python3"
  },
  "language_info": {
   "codemirror_mode": {
    "name": "ipython",
    "version": 3
   },
   "file_extension": ".py",
   "mimetype": "text/x-python",
   "name": "python",
   "nbconvert_exporter": "python",
   "pygments_lexer": "ipython3",
   "version": "3.7.0"
  }
 },
 "nbformat": 4,
 "nbformat_minor": 2
}
